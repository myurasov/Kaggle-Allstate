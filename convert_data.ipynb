{
 "cells": [
  {
   "cell_type": "code",
   "execution_count": 3,
   "metadata": {
    "collapsed": false
   },
   "outputs": [],
   "source": [
    "import re\n",
    "import keras\n",
    "import numpy as np\n",
    "import pandas as pd\n",
    "import matplotlib.pyplot as plt\n",
    "%matplotlib inline\n",
    "from tqdm import tqdm\n",
    "\n",
    "from sklearn.feature_extraction import DictVectorizer"
   ]
  },
  {
   "cell_type": "code",
   "execution_count": null,
   "metadata": {
    "collapsed": true
   },
   "outputs": [],
   "source": [
    "TRAIN_FILE = 'train.csv'\n",
    "TEST_FILE = 'test.csv'"
   ]
  },
  {
   "cell_type": "code",
   "execution_count": 2,
   "metadata": {
    "collapsed": false
   },
   "outputs": [],
   "source": [
    "train_df = pd.read_csv(TRAIN_FILE)\n",
    "test_df = pd.read_csv(TEST_FILE)"
   ]
  },
  {
   "cell_type": "code",
   "execution_count": 6,
   "metadata": {
    "collapsed": false
   },
   "outputs": [],
   "source": [
    "all_df = train_df.append(test_df)"
   ]
  },
  {
   "cell_type": "code",
   "execution_count": null,
   "metadata": {
    "collapsed": true
   },
   "outputs": [],
   "source": [
    "# 1h-vectorize categories\n",
    "vec = DictVectorizer()\n",
    "g = all_df.copy()\n",
    "\n",
    "for x in g:\n",
    "    if re.match(r\"cat\\d+\", x) is None:\n",
    "         del g[x]\n",
    "\n",
    "cats_1h = vec.fit_transform(g.to_dict('records')).toarray()\n",
    "cats_1h = np.array(cats_1h, dtype=np.float32)\n",
    "del g"
   ]
  },
  {
   "cell_type": "code",
   "execution_count": 13,
   "metadata": {
    "collapsed": true
   },
   "outputs": [],
   "source": [
    "# create vectors of cont- values\n",
    "g = all_df.copy()\n",
    "\n",
    "for x in g:\n",
    "    if re.match(r\"cont\\d+\", x) is None:\n",
    "         del g[x]\n",
    "\n",
    "conts = g.to_dict('split')\n",
    "conts = np.array(conts['data'], dtype=np.float32)\n",
    "\n",
    "del g"
   ]
  },
  {
   "cell_type": "code",
   "execution_count": 15,
   "metadata": {
    "collapsed": true
   },
   "outputs": [],
   "source": [
    "X = np.hstack((cats_1h, conts))"
   ]
  },
  {
   "cell_type": "code",
   "execution_count": null,
   "metadata": {
    "collapsed": true
   },
   "outputs": [],
   "source": [
    "X_train = X[:len(train_df)]\n",
    "X_test = X[len(train_df):]\n",
    "y_train = np.array(train_df['loss'].values, dtype=np.float32)\n",
    "ids_test = np.array(test_df['id'], dtype=np.int64)"
   ]
  },
  {
   "cell_type": "code",
   "execution_count": 41,
   "metadata": {
    "collapsed": true
   },
   "outputs": [],
   "source": [
    "np.save('out/X_train.npy', X_train)\n",
    "np.save('out/X_test.npy', X_test)\n",
    "np.save('out/y_train.npy', y_train)\n",
    "np.save('out/ids_test.npy', ids_test)"
   ]
  },
  {
   "cell_type": "code",
   "execution_count": 48,
   "metadata": {
    "collapsed": false
   },
   "outputs": [
    {
     "name": "stdout",
     "output_type": "stream",
     "text": [
      "X_train (188318, 1190)\n",
      "y_train (188318,)\n",
      "X_test (125546, 1190)\n",
      "ids_test (125546,)\n"
     ]
    }
   ],
   "source": [
    "print 'X_train', X_train.shape\n",
    "print 'y_train', y_train.shape\n",
    "print 'X_test', X_test.shape\n",
    "print 'ids_test', ids_test.shape"
   ]
  },
  {
   "cell_type": "code",
   "execution_count": null,
   "metadata": {
    "collapsed": true
   },
   "outputs": [],
   "source": []
  }
 ],
 "metadata": {
  "kernelspec": {
   "display_name": "Python 2",
   "language": "python",
   "name": "python2"
  },
  "language_info": {
   "codemirror_mode": {
    "name": "ipython",
    "version": 2
   },
   "file_extension": ".py",
   "mimetype": "text/x-python",
   "name": "python",
   "nbconvert_exporter": "python",
   "pygments_lexer": "ipython2",
   "version": "2.7.6"
  }
 },
 "nbformat": 4,
 "nbformat_minor": 1
}
