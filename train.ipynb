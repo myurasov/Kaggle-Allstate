{
 "cells": [
  {
   "cell_type": "code",
   "execution_count": 1,
   "metadata": {
    "collapsed": false
   },
   "outputs": [
    {
     "name": "stderr",
     "output_type": "stream",
     "text": [
      "Using TensorFlow backend.\n"
     ]
    }
   ],
   "source": [
    "import keras\n",
    "import numpy as np\n",
    "\n",
    "import matplotlib.pyplot as plt\n",
    "%matplotlib inline\n",
    "\n",
    "from sklearn.cross_validation import train_test_split"
   ]
  },
  {
   "cell_type": "code",
   "execution_count": 2,
   "metadata": {
    "collapsed": true
   },
   "outputs": [],
   "source": [
    "TEST_SIZE = 0.1"
   ]
  },
  {
   "cell_type": "code",
   "execution_count": 3,
   "metadata": {
    "collapsed": true
   },
   "outputs": [],
   "source": [
    "X = np.load('out/X_train.npy')\n",
    "y = np.load('out/y_train.npy')"
   ]
  },
  {
   "cell_type": "code",
   "execution_count": 5,
   "metadata": {
    "collapsed": true
   },
   "outputs": [],
   "source": [
    "X_train, X_test, y_train, y_test = \\\n",
    "    train_test_split(X, y, test_size=TEST_SIZE, random_state=11)"
   ]
  },
  {
   "cell_type": "code",
   "execution_count": 7,
   "metadata": {
    "collapsed": false
   },
   "outputs": [],
   "source": [
    "from keras.models import Sequential\n",
    "from keras.layers import Dense, Activation, Dropout, LSTM, GRU\n",
    "from keras.regularizers import l2, activity_l2\n",
    "from keras.callbacks import ModelCheckpoint"
   ]
  },
  {
   "cell_type": "code",
   "execution_count": 24,
   "metadata": {
    "collapsed": false
   },
   "outputs": [],
   "source": [
    "model = Sequential([\n",
    "    Dense(\n",
    "        1024, \n",
    "        input_dim=X_train.shape[1], \n",
    "        activation='relu'\n",
    "    ),\n",
    "    Dropout(0.5),\n",
    "    Dense(1024, activation='relu'),\n",
    "    Dense(1, activation='linear')\n",
    "])\n",
    "\n",
    "model.compile(loss='mae', optimizer='RMSprop')"
   ]
  },
  {
   "cell_type": "code",
   "execution_count": 25,
   "metadata": {
    "collapsed": false
   },
   "outputs": [
    {
     "name": "stdout",
     "output_type": "stream",
     "text": [
      "Train on 169486 samples, validate on 18832 samples\n",
      "Epoch 1/10\n",
      "169486/169486 [==============================] - 15s - loss: 1248.2307 - val_loss: 1265.2006\n",
      "Epoch 2/10\n",
      "169486/169486 [==============================] - 15s - loss: 1204.9651 - val_loss: 1194.4703\n",
      "Epoch 3/10\n",
      "169486/169486 [==============================] - 15s - loss: 1192.4552 - val_loss: 1193.8722\n",
      "Epoch 4/10\n",
      "169486/169486 [==============================] - 15s - loss: 1186.5559 - val_loss: 1173.0318\n",
      "Epoch 5/10\n",
      "169486/169486 [==============================] - 15s - loss: 1180.2055 - val_loss: 1183.1989\n",
      "Epoch 6/10\n",
      "169486/169486 [==============================] - 15s - loss: 1176.2456 - val_loss: 1186.0451\n",
      "Epoch 7/10\n",
      "169486/169486 [==============================] - 15s - loss: 1173.2732 - val_loss: 1162.5448\n",
      "Epoch 8/10\n",
      "169486/169486 [==============================] - 15s - loss: 1168.8709 - val_loss: 1160.5877\n",
      "Epoch 9/10\n",
      "169486/169486 [==============================] - 15s - loss: 1166.2132 - val_loss: 1158.5624\n",
      "Epoch 10/10\n",
      "169486/169486 [==============================] - 15s - loss: 1163.6723 - val_loss: 1167.5399\n"
     ]
    }
   ],
   "source": [
    "hist = model.fit(\n",
    "        X_train,\n",
    "        y_train,\n",
    "        batch_size=32,\n",
    "        nb_epoch=10, \n",
    "        validation_data=(X_test, y_test),\n",
    "        callbacks = [\n",
    "            ModelCheckpoint(\n",
    "                \"model-{epoch:03d}@l={loss:.5f},vl={val_loss:.5f}.h5\",\n",
    "                monitor='val_loss', \n",
    "                verbose=False, \n",
    "                save_best_only=False,\n",
    "                mode='max'\n",
    "            )\n",
    "        ]\n",
    "     )"
   ]
  },
  {
   "cell_type": "code",
   "execution_count": 26,
   "metadata": {
    "collapsed": false
   },
   "outputs": [
    {
     "data": {
      "text/plain": [
       "[<matplotlib.lines.Line2D at 0x7f8d54e911d0>]"
      ]
     },
     "execution_count": 26,
     "metadata": {},
     "output_type": "execute_result"
    },
    {
     "data": {
      "image/png": "[encoded data removed]",
      "text/plain": [
       "<matplotlib.figure.Figure at 0x7f8d84213850>"
      ]
     },
     "metadata": {},
     "output_type": "display_data"
    }
   ],
   "source": [
    "plt.plot(hist.history.values()[0])"
   ]
  },
  {
   "cell_type": "code",
   "execution_count": 27,
   "metadata": {
    "collapsed": false
   },
   "outputs": [
    {
     "data": {
      "text/plain": [
       "[<matplotlib.lines.Line2D at 0x7f8d54d23750>]"
      ]
     },
     "execution_count": 27,
     "metadata": {},
     "output_type": "execute_result"
    },
    {
     "data": {
      "image/png": "[encoded data removed]",
      "text/plain": [
       "<matplotlib.figure.Figure at 0x7f8d54e606d0>"
      ]
     },
     "metadata": {},
     "output_type": "display_data"
    }
   ],
   "source": [
    "plt.plot(hist.history.values()[1])"
   ]
  },
  {
   "cell_type": "code",
   "execution_count": null,
   "metadata": {
    "collapsed": true
   },
   "outputs": [],
   "source": []
  }
 ],
 "metadata": {
  "kernelspec": {
   "display_name": "Python 2",
   "language": "python",
   "name": "python2"
  },
  "language_info": {
   "codemirror_mode": {
    "name": "ipython",
    "version": 2
   },
   "file_extension": ".py",
   "mimetype": "text/x-python",
   "name": "python",
   "nbconvert_exporter": "python",
   "pygments_lexer": "ipython2",
   "version": "2.7.6"
  }
 },
 "nbformat": 4,
 "nbformat_minor": 1
}
